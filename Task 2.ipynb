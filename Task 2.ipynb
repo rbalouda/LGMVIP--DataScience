{
 "cells": [
  {
   "cell_type": "markdown",
   "id": "8353246b",
   "metadata": {},
   "source": [
    "# Stock Market Prediction Using Stacked LSTM :    \n",
    "\n",
    "# Author: Rajesh Balouda\n",
    "\n",
    "# LETS GROW MORE\n",
    "\n",
    "# Data Science Intern May 2022"
   ]
  },
  {
   "cell_type": "code",
   "execution_count": 2,
   "id": "003e0863",
   "metadata": {},
   "outputs": [],
   "source": [
    "#importing libraries\n",
    "import pandas as pd\n",
    "import numpy as np\n",
    "import matplotlib.pyplot as plt"
   ]
  },
  {
   "cell_type": "code",
   "execution_count": 3,
   "id": "492f3f9c",
   "metadata": {},
   "outputs": [
    {
     "name": "stdout",
     "output_type": "stream",
     "text": [
      "dataset imported\n"
     ]
    }
   ],
   "source": [
    "#importing dataset from  url\n",
    "url = \"https://raw.githubusercontent.com/mwitiderrick/stockprice/master/NSE-TATAGLOBAL.csv\"\n",
    "df=pd.read_csv(url)\n",
    "print('dataset imported')"
   ]
  },
  {
   "cell_type": "markdown",
   "id": "5d0cb1a1",
   "metadata": {},
   "source": [
    "# Preparing the data"
   ]
  },
  {
   "cell_type": "code",
   "execution_count": 4,
   "id": "38187c48",
   "metadata": {},
   "outputs": [
    {
     "name": "stdout",
     "output_type": "stream",
     "text": [
      "There is no null value\n"
     ]
    }
   ],
   "source": [
    "#taking care of missing values\n",
    "if df.isnull().values.any():\n",
    "    print('there is missing values')\n",
    "else:\n",
    "    print('There is no null value')\n"
   ]
  },
  {
   "cell_type": "code",
   "execution_count": 5,
   "id": "1a1bcc65",
   "metadata": {},
   "outputs": [
    {
     "data": {
      "text/html": [
       "<div>\n",
       "<style scoped>\n",
       "    .dataframe tbody tr th:only-of-type {\n",
       "        vertical-align: middle;\n",
       "    }\n",
       "\n",
       "    .dataframe tbody tr th {\n",
       "        vertical-align: top;\n",
       "    }\n",
       "\n",
       "    .dataframe thead th {\n",
       "        text-align: right;\n",
       "    }\n",
       "</style>\n",
       "<table border=\"1\" class=\"dataframe\">\n",
       "  <thead>\n",
       "    <tr style=\"text-align: right;\">\n",
       "      <th></th>\n",
       "      <th>Date</th>\n",
       "      <th>Open</th>\n",
       "      <th>High</th>\n",
       "      <th>Low</th>\n",
       "      <th>Last</th>\n",
       "      <th>Close</th>\n",
       "      <th>Total Trade Quantity</th>\n",
       "      <th>Turnover (Lacs)</th>\n",
       "    </tr>\n",
       "  </thead>\n",
       "  <tbody>\n",
       "    <tr>\n",
       "      <th>0</th>\n",
       "      <td>2018-09-28</td>\n",
       "      <td>234.05</td>\n",
       "      <td>235.95</td>\n",
       "      <td>230.20</td>\n",
       "      <td>233.50</td>\n",
       "      <td>233.75</td>\n",
       "      <td>3069914</td>\n",
       "      <td>7162.35</td>\n",
       "    </tr>\n",
       "    <tr>\n",
       "      <th>1</th>\n",
       "      <td>2018-09-27</td>\n",
       "      <td>234.55</td>\n",
       "      <td>236.80</td>\n",
       "      <td>231.10</td>\n",
       "      <td>233.80</td>\n",
       "      <td>233.25</td>\n",
       "      <td>5082859</td>\n",
       "      <td>11859.95</td>\n",
       "    </tr>\n",
       "    <tr>\n",
       "      <th>2</th>\n",
       "      <td>2018-09-26</td>\n",
       "      <td>240.00</td>\n",
       "      <td>240.00</td>\n",
       "      <td>232.50</td>\n",
       "      <td>235.00</td>\n",
       "      <td>234.25</td>\n",
       "      <td>2240909</td>\n",
       "      <td>5248.60</td>\n",
       "    </tr>\n",
       "    <tr>\n",
       "      <th>3</th>\n",
       "      <td>2018-09-25</td>\n",
       "      <td>233.30</td>\n",
       "      <td>236.75</td>\n",
       "      <td>232.00</td>\n",
       "      <td>236.25</td>\n",
       "      <td>236.10</td>\n",
       "      <td>2349368</td>\n",
       "      <td>5503.90</td>\n",
       "    </tr>\n",
       "    <tr>\n",
       "      <th>4</th>\n",
       "      <td>2018-09-24</td>\n",
       "      <td>233.55</td>\n",
       "      <td>239.20</td>\n",
       "      <td>230.75</td>\n",
       "      <td>234.00</td>\n",
       "      <td>233.30</td>\n",
       "      <td>3423509</td>\n",
       "      <td>7999.55</td>\n",
       "    </tr>\n",
       "    <tr>\n",
       "      <th>...</th>\n",
       "      <td>...</td>\n",
       "      <td>...</td>\n",
       "      <td>...</td>\n",
       "      <td>...</td>\n",
       "      <td>...</td>\n",
       "      <td>...</td>\n",
       "      <td>...</td>\n",
       "      <td>...</td>\n",
       "    </tr>\n",
       "    <tr>\n",
       "      <th>2030</th>\n",
       "      <td>2010-07-27</td>\n",
       "      <td>117.60</td>\n",
       "      <td>119.50</td>\n",
       "      <td>112.00</td>\n",
       "      <td>118.80</td>\n",
       "      <td>118.65</td>\n",
       "      <td>586100</td>\n",
       "      <td>694.98</td>\n",
       "    </tr>\n",
       "    <tr>\n",
       "      <th>2031</th>\n",
       "      <td>2010-07-26</td>\n",
       "      <td>120.10</td>\n",
       "      <td>121.00</td>\n",
       "      <td>117.10</td>\n",
       "      <td>117.10</td>\n",
       "      <td>117.60</td>\n",
       "      <td>658440</td>\n",
       "      <td>780.01</td>\n",
       "    </tr>\n",
       "    <tr>\n",
       "      <th>2032</th>\n",
       "      <td>2010-07-23</td>\n",
       "      <td>121.80</td>\n",
       "      <td>121.95</td>\n",
       "      <td>120.25</td>\n",
       "      <td>120.35</td>\n",
       "      <td>120.65</td>\n",
       "      <td>281312</td>\n",
       "      <td>340.31</td>\n",
       "    </tr>\n",
       "    <tr>\n",
       "      <th>2033</th>\n",
       "      <td>2010-07-22</td>\n",
       "      <td>120.30</td>\n",
       "      <td>122.00</td>\n",
       "      <td>120.25</td>\n",
       "      <td>120.75</td>\n",
       "      <td>120.90</td>\n",
       "      <td>293312</td>\n",
       "      <td>355.17</td>\n",
       "    </tr>\n",
       "    <tr>\n",
       "      <th>2034</th>\n",
       "      <td>2010-07-21</td>\n",
       "      <td>122.10</td>\n",
       "      <td>123.00</td>\n",
       "      <td>121.05</td>\n",
       "      <td>121.10</td>\n",
       "      <td>121.55</td>\n",
       "      <td>658666</td>\n",
       "      <td>803.56</td>\n",
       "    </tr>\n",
       "  </tbody>\n",
       "</table>\n",
       "<p>2035 rows × 8 columns</p>\n",
       "</div>"
      ],
      "text/plain": [
       "            Date    Open    High     Low    Last   Close  \\\n",
       "0     2018-09-28  234.05  235.95  230.20  233.50  233.75   \n",
       "1     2018-09-27  234.55  236.80  231.10  233.80  233.25   \n",
       "2     2018-09-26  240.00  240.00  232.50  235.00  234.25   \n",
       "3     2018-09-25  233.30  236.75  232.00  236.25  236.10   \n",
       "4     2018-09-24  233.55  239.20  230.75  234.00  233.30   \n",
       "...          ...     ...     ...     ...     ...     ...   \n",
       "2030  2010-07-27  117.60  119.50  112.00  118.80  118.65   \n",
       "2031  2010-07-26  120.10  121.00  117.10  117.10  117.60   \n",
       "2032  2010-07-23  121.80  121.95  120.25  120.35  120.65   \n",
       "2033  2010-07-22  120.30  122.00  120.25  120.75  120.90   \n",
       "2034  2010-07-21  122.10  123.00  121.05  121.10  121.55   \n",
       "\n",
       "      Total Trade Quantity  Turnover (Lacs)  \n",
       "0                  3069914          7162.35  \n",
       "1                  5082859         11859.95  \n",
       "2                  2240909          5248.60  \n",
       "3                  2349368          5503.90  \n",
       "4                  3423509          7999.55  \n",
       "...                    ...              ...  \n",
       "2030                586100           694.98  \n",
       "2031                658440           780.01  \n",
       "2032                281312           340.31  \n",
       "2033                293312           355.17  \n",
       "2034                658666           803.56  \n",
       "\n",
       "[2035 rows x 8 columns]"
      ]
     },
     "execution_count": 5,
     "metadata": {},
     "output_type": "execute_result"
    }
   ],
   "source": [
    "df"
   ]
  },
  {
   "cell_type": "code",
   "execution_count": 6,
   "id": "770071c2",
   "metadata": {},
   "outputs": [],
   "source": [
    "# since date is in decreasing order so we adjust our dataframe with respect increasing order\n",
    "df  =df.loc[::-1]"
   ]
  },
  {
   "cell_type": "code",
   "execution_count": 7,
   "id": "371bf957",
   "metadata": {},
   "outputs": [],
   "source": [
    "# reset index of dataframe\n",
    "df = df.reset_index()"
   ]
  },
  {
   "cell_type": "code",
   "execution_count": 16,
   "id": "168e9cef",
   "metadata": {},
   "outputs": [],
   "source": [
    "#drop previous index column\n",
    "df.drop('index',inplace=True,axis=1)"
   ]
  },
  {
   "cell_type": "markdown",
   "id": "888d1ba9",
   "metadata": {},
   "source": [
    "## we can take any column of our dataset for forecasting \n",
    "## we take Close column for forecasting"
   ]
  },
  {
   "cell_type": "code",
   "execution_count": 8,
   "id": "635f8eaf",
   "metadata": {},
   "outputs": [],
   "source": [
    "#taking close column for forecasting\n",
    "dfc =df.Close"
   ]
  },
  {
   "cell_type": "code",
   "execution_count": 10,
   "id": "c0e274c4",
   "metadata": {},
   "outputs": [
    {
     "data": {
      "image/png": "[encoded data removed]",
      "text/plain": [
       "<Figure size 432x288 with 1 Axes>"
      ]
     },
     "metadata": {
      "needs_background": "light"
     },
     "output_type": "display_data"
    }
   ],
   "source": [
    "# plot our close column values by matplotlib\n",
    "plt.plot(dfc)\n",
    "plt.show()"
   ]
  },
  {
   "cell_type": "markdown",
   "id": "8ecc3035",
   "metadata": {},
   "source": [
    "## Since in Lstm we required Standardized Feature\n",
    "## so here we use MinMax Scaler"
   ]
  },
  {
   "cell_type": "code",
   "execution_count": 11,
   "id": "9912d39d",
   "metadata": {},
   "outputs": [],
   "source": [
    "#importing MinMaxScaler from sklearn library\n",
    "from sklearn.preprocessing import MinMaxScaler"
   ]
  },
  {
   "cell_type": "code",
   "execution_count": 12,
   "id": "9aacb011",
   "metadata": {},
   "outputs": [],
   "source": [
    "#standardization of our feature column and change into array\n",
    "sd = MinMaxScaler(feature_range=(0,1))\n",
    "dfc = sd.fit_transform(np.array(dfc).reshape(-1,1))"
   ]
  },
  {
   "cell_type": "code",
   "execution_count": 14,
   "id": "93d5b9fd",
   "metadata": {},
   "outputs": [
    {
     "data": {
      "text/plain": [
       "array([[0.16584967],\n",
       "       [0.16319444],\n",
       "       [0.1621732 ],\n",
       "       ...,\n",
       "       [0.62622549],\n",
       "       [0.62214052],\n",
       "       [0.62418301]])"
      ]
     },
     "execution_count": 14,
     "metadata": {},
     "output_type": "execute_result"
    }
   ],
   "source": [
    "dfc"
   ]
  },
  {
   "cell_type": "markdown",
   "id": "831c8911",
   "metadata": {},
   "source": [
    "## split dataset into the traininng set and test set\n",
    "\n",
    "\n",
    "\n",
    "## since in Stacked Lstm we requires sequential so we split our dataset in this manner that first 70% dataset  we use for training and last 30% data we use for test"
   ]
  },
  {
   "cell_type": "code",
   "execution_count": 16,
   "id": "5c26cc56",
   "metadata": {},
   "outputs": [],
   "source": [
    "#define train_size and test size\n",
    "train_size = int(round(len(dfc)*0.70,0))\n",
    "test_size = int(round(len(dfc)-train_size,0))"
   ]
  },
  {
   "cell_type": "code",
   "execution_count": 19,
   "id": "e7f42c8e",
   "metadata": {},
   "outputs": [],
   "source": [
    "#split datset into training set and test set\n",
    "train_data,test_data=dfc[0:train_size,:],dfc[test_size:len(dfc),:1]"
   ]
  },
  {
   "cell_type": "code",
   "execution_count": 20,
   "id": "67fb3f91",
   "metadata": {},
   "outputs": [
    {
     "data": {
      "text/plain": [
       "(array([[0.16584967],\n",
       "        [0.16319444],\n",
       "        [0.1621732 ],\n",
       "        ...,\n",
       "        [0.15012255],\n",
       "        [0.15747549],\n",
       "        [0.15277778]]),\n",
       " array([[0.3247549 ],\n",
       "        [0.32271242],\n",
       "        [0.32618464],\n",
       "        ...,\n",
       "        [0.62622549],\n",
       "        [0.62214052],\n",
       "        [0.62418301]]))"
      ]
     },
     "execution_count": 20,
     "metadata": {},
     "output_type": "execute_result"
    }
   ],
   "source": [
    "train_data,test_data"
   ]
  },
  {
   "cell_type": "markdown",
   "id": "96c1a756",
   "metadata": {},
   "source": [
    "## in stacked Lstm we have to define timestep that how many sequential value we want to predict future value of stock"
   ]
  },
  {
   "cell_type": "code",
   "execution_count": 21,
   "id": "7bc91a61",
   "metadata": {},
   "outputs": [],
   "source": [
    "# define function to create feature and dependent dataset\n",
    "def create_dataset(dataset,timestep=1):\n",
    "    data_x,data_y=[],[]\n",
    "    for i in range(len(dataset)-timestep-1):\n",
    "        a=dataset[i:i+timestep,0]\n",
    "        data_x.append(a)\n",
    "        data_y.append(dataset[i+timestep,0])\n",
    "    return np.array(data_x), np.array(data_y)     \n",
    "        "
   ]
  },
  {
   "cell_type": "code",
   "execution_count": 22,
   "id": "c0982c89",
   "metadata": {},
   "outputs": [],
   "source": [
    "#create dataset of dependent and independent variable we take timestep is equal 150 \n",
    "timestep = 150\n",
    "x_train,y_train = create_dataset(train_data,timestep)\n",
    "x_test,y_test = create_dataset(test_data,timestep)"
   ]
  },
  {
   "cell_type": "code",
   "execution_count": 23,
   "id": "7c354458",
   "metadata": {},
   "outputs": [],
   "source": [
    "#reshape features for training the model\n",
    "x_train = x_train.reshape(x_train.shape[0],x_train.shape[1],1)\n",
    "x_test = x_test.reshape(x_test.shape[0],x_test.shape[1],1)"
   ]
  },
  {
   "cell_type": "markdown",
   "id": "5d550856",
   "metadata": {},
   "source": [
    "# Create the Stacked Lstm Model"
   ]
  },
  {
   "cell_type": "code",
   "execution_count": 27,
   "id": "20ae3015",
   "metadata": {},
   "outputs": [
    {
     "name": "stdout",
     "output_type": "stream",
     "text": [
      "Requirement already satisfied: pip in c:\\users\\sudipta\\anaconda3\\lib\\site-packages (22.1.1)\n",
      "Note: you may need to restart the kernel to use updated packages.\n"
     ]
    }
   ],
   "source": [
    "pip install --upgrade pip\n"
   ]
  },
  {
   "cell_type": "markdown",
   "id": "28d217f7",
   "metadata": {},
   "source": [
    "### install tensorflow"
   ]
  },
  {
   "cell_type": "code",
   "execution_count": 28,
   "id": "3fa85b9a",
   "metadata": {},
   "outputs": [
    {
     "name": "stdout",
     "output_type": "stream",
     "text": [
      "Requirement already satisfied: tensorflow in c:\\users\\sudipta\\anaconda3\\lib\\site-packages (2.9.1)\n",
      "Requirement already satisfied: termcolor>=1.1.0 in c:\\users\\sudipta\\anaconda3\\lib\\site-packages (from tensorflow) (1.1.0)\n",
      "Requirement already satisfied: numpy>=1.20 in c:\\users\\sudipta\\anaconda3\\lib\\site-packages (from tensorflow) (1.20.3)\n",
      "Requirement already satisfied: h5py>=2.9.0 in c:\\users\\sudipta\\anaconda3\\lib\\site-packages (from tensorflow) (3.2.1)\n",
      "Requirement already satisfied: setuptools in c:\\users\\sudipta\\anaconda3\\lib\\site-packages (from tensorflow) (58.0.4)\n",
      "Requirement already satisfied: gast<=0.4.0,>=0.2.1 in c:\\users\\sudipta\\anaconda3\\lib\\site-packages (from tensorflow) (0.4.0)\n",
      "Requirement already satisfied: packaging in c:\\users\\sudipta\\anaconda3\\lib\\site-packages (from tensorflow) (21.0)\n",
      "Requirement already satisfied: grpcio<2.0,>=1.24.3 in c:\\users\\sudipta\\anaconda3\\lib\\site-packages (from tensorflow) (1.46.3)\n",
      "Requirement already satisfied: libclang>=13.0.0 in c:\\users\\sudipta\\anaconda3\\lib\\site-packages (from tensorflow) (14.0.1)\n",
      "Requirement already satisfied: opt-einsum>=2.3.2 in c:\\users\\sudipta\\anaconda3\\lib\\site-packages (from tensorflow) (3.3.0)\n",
      "Requirement already satisfied: wrapt>=1.11.0 in c:\\users\\sudipta\\anaconda3\\lib\\site-packages (from tensorflow) (1.12.1)\n",
      "Requirement already satisfied: absl-py>=1.0.0 in c:\\users\\sudipta\\anaconda3\\lib\\site-packages (from tensorflow) (1.0.0)\n",
      "Requirement already satisfied: keras-preprocessing>=1.1.1 in c:\\users\\sudipta\\anaconda3\\lib\\site-packages (from tensorflow) (1.1.2)\n",
      "Requirement already satisfied: protobuf<3.20,>=3.9.2 in c:\\users\\sudipta\\anaconda3\\lib\\site-packages (from tensorflow) (3.19.4)\n",
      "Requirement already satisfied: google-pasta>=0.1.1 in c:\\users\\sudipta\\anaconda3\\lib\\site-packages (from tensorflow) (0.2.0)\n",
      "Requirement already satisfied: tensorboard<2.10,>=2.9 in c:\\users\\sudipta\\anaconda3\\lib\\site-packages (from tensorflow) (2.9.0)\n",
      "Requirement already satisfied: tensorflow-estimator<2.10.0,>=2.9.0rc0 in c:\\users\\sudipta\\anaconda3\\lib\\site-packages (from tensorflow) (2.9.0)\n",
      "Requirement already satisfied: keras<2.10.0,>=2.9.0rc0 in c:\\users\\sudipta\\anaconda3\\lib\\site-packages (from tensorflow) (2.9.0)\n",
      "Requirement already satisfied: typing-extensions>=3.6.6 in c:\\users\\sudipta\\anaconda3\\lib\\site-packages (from tensorflow) (3.10.0.2)\n",
      "Requirement already satisfied: astunparse>=1.6.0 in c:\\users\\sudipta\\anaconda3\\lib\\site-packages (from tensorflow) (1.6.3)\n",
      "Requirement already satisfied: six>=1.12.0 in c:\\users\\sudipta\\anaconda3\\lib\\site-packages (from tensorflow) (1.16.0)\n",
      "Requirement already satisfied: flatbuffers<2,>=1.12 in c:\\users\\sudipta\\anaconda3\\lib\\site-packages (from tensorflow) (1.12)\n",
      "Requirement already satisfied: tensorflow-io-gcs-filesystem>=0.23.1 in c:\\users\\sudipta\\anaconda3\\lib\\site-packages (from tensorflow) (0.26.0)\n",
      "Requirement already satisfied: wheel<1.0,>=0.23.0 in c:\\users\\sudipta\\anaconda3\\lib\\site-packages (from astunparse>=1.6.0->tensorflow) (0.37.0)\n",
      "Requirement already satisfied: google-auth<3,>=1.6.3 in c:\\users\\sudipta\\anaconda3\\lib\\site-packages (from tensorboard<2.10,>=2.9->tensorflow) (2.6.6)\n",
      "Requirement already satisfied: werkzeug>=1.0.1 in c:\\users\\sudipta\\anaconda3\\lib\\site-packages (from tensorboard<2.10,>=2.9->tensorflow) (2.0.2)\n",
      "Requirement already satisfied: google-auth-oauthlib<0.5,>=0.4.1 in c:\\users\\sudipta\\anaconda3\\lib\\site-packages (from tensorboard<2.10,>=2.9->tensorflow) (0.4.6)\n",
      "Requirement already satisfied: tensorboard-data-server<0.7.0,>=0.6.0 in c:\\users\\sudipta\\anaconda3\\lib\\site-packages (from tensorboard<2.10,>=2.9->tensorflow) (0.6.1)\n",
      "Requirement already satisfied: markdown>=2.6.8 in c:\\users\\sudipta\\anaconda3\\lib\\site-packages (from tensorboard<2.10,>=2.9->tensorflow) (3.3.7)Note: you may need to restart the kernel to use updated packages.\n",
      "\n",
      "Requirement already satisfied: requests<3,>=2.21.0 in c:\\users\\sudipta\\anaconda3\\lib\\site-packages (from tensorboard<2.10,>=2.9->tensorflow) (2.26.0)\n",
      "Requirement already satisfied: tensorboard-plugin-wit>=1.6.0 in c:\\users\\sudipta\\anaconda3\\lib\\site-packages (from tensorboard<2.10,>=2.9->tensorflow) (1.8.1)\n",
      "Requirement already satisfied: pyparsing>=2.0.2 in c:\\users\\sudipta\\anaconda3\\lib\\site-packages (from packaging->tensorflow) (3.0.4)\n",
      "Requirement already satisfied: cachetools<6.0,>=2.0.0 in c:\\users\\sudipta\\anaconda3\\lib\\site-packages (from google-auth<3,>=1.6.3->tensorboard<2.10,>=2.9->tensorflow) (5.1.0)\n",
      "Requirement already satisfied: pyasn1-modules>=0.2.1 in c:\\users\\sudipta\\anaconda3\\lib\\site-packages (from google-auth<3,>=1.6.3->tensorboard<2.10,>=2.9->tensorflow) (0.2.8)\n",
      "Requirement already satisfied: rsa<5,>=3.1.4 in c:\\users\\sudipta\\anaconda3\\lib\\site-packages (from google-auth<3,>=1.6.3->tensorboard<2.10,>=2.9->tensorflow) (4.8)\n",
      "Requirement already satisfied: requests-oauthlib>=0.7.0 in c:\\users\\sudipta\\anaconda3\\lib\\site-packages (from google-auth-oauthlib<0.5,>=0.4.1->tensorboard<2.10,>=2.9->tensorflow) (1.3.1)\n",
      "Requirement already satisfied: importlib-metadata>=4.4 in c:\\users\\sudipta\\anaconda3\\lib\\site-packages (from markdown>=2.6.8->tensorboard<2.10,>=2.9->tensorflow) (4.8.1)\n",
      "Requirement already satisfied: urllib3<1.27,>=1.21.1 in c:\\users\\sudipta\\anaconda3\\lib\\site-packages (from requests<3,>=2.21.0->tensorboard<2.10,>=2.9->tensorflow) (1.26.7)\n",
      "Requirement already satisfied: certifi>=2017.4.17 in c:\\users\\sudipta\\anaconda3\\lib\\site-packages (from requests<3,>=2.21.0->tensorboard<2.10,>=2.9->tensorflow) (2021.10.8)\n",
      "Requirement already satisfied: idna<4,>=2.5 in c:\\users\\sudipta\\anaconda3\\lib\\site-packages (from requests<3,>=2.21.0->tensorboard<2.10,>=2.9->tensorflow) (3.2)\n",
      "Requirement already satisfied: charset-normalizer~=2.0.0 in c:\\users\\sudipta\\anaconda3\\lib\\site-packages (from requests<3,>=2.21.0->tensorboard<2.10,>=2.9->tensorflow) (2.0.4)\n",
      "Requirement already satisfied: zipp>=0.5 in c:\\users\\sudipta\\anaconda3\\lib\\site-packages (from importlib-metadata>=4.4->markdown>=2.6.8->tensorboard<2.10,>=2.9->tensorflow) (3.6.0)\n",
      "Requirement already satisfied: pyasn1<0.5.0,>=0.4.6 in c:\\users\\sudipta\\anaconda3\\lib\\site-packages (from pyasn1-modules>=0.2.1->google-auth<3,>=1.6.3->tensorboard<2.10,>=2.9->tensorflow) (0.4.8)\n",
      "Requirement already satisfied: oauthlib>=3.0.0 in c:\\users\\sudipta\\anaconda3\\lib\\site-packages (from requests-oauthlib>=0.7.0->google-auth-oauthlib<0.5,>=0.4.1->tensorboard<2.10,>=2.9->tensorflow) (3.2.0)\n"
     ]
    }
   ],
   "source": [
    "pip install tensorflow"
   ]
  },
  {
   "cell_type": "code",
   "execution_count": 29,
   "id": "22c5f787",
   "metadata": {},
   "outputs": [],
   "source": [
    "#import tensorflow\n",
    "import tensorflow as tf"
   ]
  },
  {
   "cell_type": "code",
   "execution_count": 30,
   "id": "799169a0",
   "metadata": {},
   "outputs": [],
   "source": [
    "# import module\n",
    "from tensorflow.keras.models import Sequential\n",
    "from tensorflow.keras.layers import Dense\n",
    "from tensorflow.keras.layers import LSTM"
   ]
  },
  {
   "cell_type": "markdown",
   "id": "619621e4",
   "metadata": {},
   "source": [
    "## Create a Lstm Model with one input layer and two hidden layer and one output layer we use optimizer adam "
   ]
  },
  {
   "cell_type": "code",
   "execution_count": 32,
   "id": "2651735e",
   "metadata": {},
   "outputs": [],
   "source": [
    "model = Sequential()\n",
    "model.add(LSTM(50,return_sequences=True,input_shape=(150,1)))\n",
    "model.add(LSTM(50,return_sequences = True))\n",
    "model.add(LSTM(50))\n",
    "model.add(Dense(1))\n",
    "model.compile(loss='mean_squared_error',optimizer='adam')"
   ]
  },
  {
   "cell_type": "markdown",
   "id": "2912fbdf",
   "metadata": {},
   "source": [
    "# Training the Model"
   ]
  },
  {
   "cell_type": "code",
   "execution_count": 33,
   "id": "2577a900",
   "metadata": {},
   "outputs": [
    {
     "name": "stdout",
     "output_type": "stream",
     "text": [
      "Epoch 1/100\n",
      "20/20 [==============================] - 14s 415ms/step - loss: 0.0128 - val_loss: 0.0164\n",
      "Epoch 2/100\n",
      "20/20 [==============================] - 6s 279ms/step - loss: 0.0021 - val_loss: 0.0022\n",
      "Epoch 3/100\n",
      "20/20 [==============================] - 7s 331ms/step - loss: 0.0010 - val_loss: 0.0019\n",
      "Epoch 4/100\n",
      "20/20 [==============================] - 6s 325ms/step - loss: 8.6031e-04 - val_loss: 0.0019\n",
      "Epoch 5/100\n",
      "20/20 [==============================] - 6s 324ms/step - loss: 8.4764e-04 - val_loss: 0.0017\n",
      "Epoch 6/100\n",
      "20/20 [==============================] - 7s 335ms/step - loss: 8.1323e-04 - val_loss: 0.0018\n",
      "Epoch 7/100\n",
      "20/20 [==============================] - 6s 327ms/step - loss: 7.6597e-04 - val_loss: 0.0016\n",
      "Epoch 8/100\n",
      "20/20 [==============================] - 6s 315ms/step - loss: 7.4713e-04 - val_loss: 0.0017\n",
      "Epoch 9/100\n",
      "20/20 [==============================] - 6s 300ms/step - loss: 7.3686e-04 - val_loss: 0.0017\n",
      "Epoch 10/100\n",
      "20/20 [==============================] - 6s 326ms/step - loss: 7.0556e-04 - val_loss: 0.0016\n",
      "Epoch 11/100\n",
      "20/20 [==============================] - 7s 333ms/step - loss: 7.1946e-04 - val_loss: 0.0015\n",
      "Epoch 12/100\n",
      "20/20 [==============================] - 7s 331ms/step - loss: 6.7880e-04 - val_loss: 0.0018\n",
      "Epoch 13/100\n",
      "20/20 [==============================] - 7s 333ms/step - loss: 6.3921e-04 - val_loss: 0.0020\n",
      "Epoch 14/100\n",
      "20/20 [==============================] - 6s 327ms/step - loss: 6.3488e-04 - val_loss: 0.0015\n",
      "Epoch 15/100\n",
      "20/20 [==============================] - 6s 326ms/step - loss: 7.0251e-04 - val_loss: 0.0026\n",
      "Epoch 16/100\n",
      "20/20 [==============================] - 7s 334ms/step - loss: 6.1709e-04 - val_loss: 0.0037\n",
      "Epoch 17/100\n",
      "20/20 [==============================] - 7s 336ms/step - loss: 6.3608e-04 - val_loss: 0.0039\n",
      "Epoch 18/100\n",
      "20/20 [==============================] - 6s 319ms/step - loss: 6.1682e-04 - val_loss: 0.0034\n",
      "Epoch 19/100\n",
      "20/20 [==============================] - 6s 324ms/step - loss: 5.6618e-04 - val_loss: 0.0026\n",
      "Epoch 20/100\n",
      "20/20 [==============================] - 6s 321ms/step - loss: 5.5667e-04 - val_loss: 0.0022\n",
      "Epoch 21/100\n",
      "20/20 [==============================] - 6s 322ms/step - loss: 5.2676e-04 - val_loss: 0.0032\n",
      "Epoch 22/100\n",
      "20/20 [==============================] - 6s 326ms/step - loss: 5.3944e-04 - val_loss: 0.0027\n",
      "Epoch 23/100\n",
      "20/20 [==============================] - 6s 324ms/step - loss: 4.9961e-04 - val_loss: 0.0025\n",
      "Epoch 24/100\n",
      "20/20 [==============================] - 6s 325ms/step - loss: 5.1529e-04 - val_loss: 0.0035\n",
      "Epoch 25/100\n",
      "20/20 [==============================] - 6s 324ms/step - loss: 4.9946e-04 - val_loss: 0.0027\n",
      "Epoch 26/100\n",
      "20/20 [==============================] - 6s 322ms/step - loss: 4.6419e-04 - val_loss: 0.0021\n",
      "Epoch 27/100\n",
      "20/20 [==============================] - 6s 320ms/step - loss: 4.6871e-04 - val_loss: 0.0033\n",
      "Epoch 28/100\n",
      "20/20 [==============================] - 6s 323ms/step - loss: 4.5152e-04 - val_loss: 0.0028\n",
      "Epoch 29/100\n",
      "20/20 [==============================] - 6s 321ms/step - loss: 4.4194e-04 - val_loss: 0.0015\n",
      "Epoch 30/100\n",
      "20/20 [==============================] - 6s 321ms/step - loss: 4.2408e-04 - val_loss: 0.0020\n",
      "Epoch 31/100\n",
      "20/20 [==============================] - 6s 325ms/step - loss: 4.5663e-04 - val_loss: 0.0013\n",
      "Epoch 32/100\n",
      "20/20 [==============================] - 6s 317ms/step - loss: 4.2229e-04 - val_loss: 0.0028\n",
      "Epoch 33/100\n",
      "20/20 [==============================] - 6s 321ms/step - loss: 4.1127e-04 - val_loss: 0.0013\n",
      "Epoch 34/100\n",
      "20/20 [==============================] - 6s 323ms/step - loss: 3.7491e-04 - val_loss: 0.0017\n",
      "Epoch 35/100\n",
      "20/20 [==============================] - 6s 321ms/step - loss: 3.6149e-04 - val_loss: 0.0022\n",
      "Epoch 36/100\n",
      "20/20 [==============================] - 6s 319ms/step - loss: 3.8489e-04 - val_loss: 0.0015\n",
      "Epoch 37/100\n",
      "20/20 [==============================] - 6s 320ms/step - loss: 3.4417e-04 - val_loss: 0.0016\n",
      "Epoch 38/100\n",
      "20/20 [==============================] - 6s 322ms/step - loss: 3.2564e-04 - val_loss: 0.0013\n",
      "Epoch 39/100\n",
      "20/20 [==============================] - 6s 321ms/step - loss: 3.1345e-04 - val_loss: 0.0016\n",
      "Epoch 40/100\n",
      "20/20 [==============================] - 6s 317ms/step - loss: 3.0614e-04 - val_loss: 0.0018\n",
      "Epoch 41/100\n",
      "20/20 [==============================] - 6s 321ms/step - loss: 3.2044e-04 - val_loss: 8.0661e-04\n",
      "Epoch 42/100\n",
      "20/20 [==============================] - 6s 321ms/step - loss: 2.9032e-04 - val_loss: 8.9908e-04\n",
      "Epoch 43/100\n",
      "20/20 [==============================] - 6s 322ms/step - loss: 2.8613e-04 - val_loss: 0.0013\n",
      "Epoch 44/100\n",
      "20/20 [==============================] - 6s 321ms/step - loss: 2.7799e-04 - val_loss: 5.9292e-04\n",
      "Epoch 45/100\n",
      "20/20 [==============================] - 6s 316ms/step - loss: 3.1068e-04 - val_loss: 0.0016\n",
      "Epoch 46/100\n",
      "20/20 [==============================] - 6s 319ms/step - loss: 2.7814e-04 - val_loss: 0.0010\n",
      "Epoch 47/100\n",
      "20/20 [==============================] - 6s 316ms/step - loss: 2.6465e-04 - val_loss: 5.8634e-04\n",
      "Epoch 48/100\n",
      "20/20 [==============================] - 6s 323ms/step - loss: 3.0227e-04 - val_loss: 0.0011\n",
      "Epoch 49/100\n",
      "20/20 [==============================] - 6s 317ms/step - loss: 2.6432e-04 - val_loss: 7.1727e-04\n",
      "Epoch 50/100\n",
      "20/20 [==============================] - 6s 317ms/step - loss: 2.5950e-04 - val_loss: 7.7929e-04\n",
      "Epoch 51/100\n",
      "20/20 [==============================] - 6s 317ms/step - loss: 2.3434e-04 - val_loss: 0.0011\n",
      "Epoch 52/100\n",
      "20/20 [==============================] - 6s 316ms/step - loss: 2.4462e-04 - val_loss: 5.5947e-04\n",
      "Epoch 53/100\n",
      "20/20 [==============================] - 6s 324ms/step - loss: 2.3512e-04 - val_loss: 5.0255e-04\n",
      "Epoch 54/100\n",
      "20/20 [==============================] - 6s 319ms/step - loss: 2.4454e-04 - val_loss: 4.7619e-04\n",
      "Epoch 55/100\n",
      "20/20 [==============================] - 6s 318ms/step - loss: 2.2056e-04 - val_loss: 7.1342e-04\n",
      "Epoch 56/100\n",
      "20/20 [==============================] - 6s 320ms/step - loss: 2.4470e-04 - val_loss: 0.0012\n",
      "Epoch 57/100\n",
      "20/20 [==============================] - 6s 319ms/step - loss: 2.0914e-04 - val_loss: 5.8106e-04\n",
      "Epoch 58/100\n",
      "20/20 [==============================] - 6s 318ms/step - loss: 2.1007e-04 - val_loss: 8.5025e-04\n",
      "Epoch 59/100\n",
      "20/20 [==============================] - 6s 322ms/step - loss: 2.0591e-04 - val_loss: 5.6403e-04\n",
      "Epoch 60/100\n",
      "20/20 [==============================] - 6s 318ms/step - loss: 2.4356e-04 - val_loss: 0.0013\n",
      "Epoch 61/100\n",
      "20/20 [==============================] - 6s 324ms/step - loss: 2.0698e-04 - val_loss: 8.4358e-04\n",
      "Epoch 62/100\n",
      "20/20 [==============================] - 6s 318ms/step - loss: 2.0755e-04 - val_loss: 9.0836e-04\n",
      "Epoch 63/100\n",
      "20/20 [==============================] - 6s 315ms/step - loss: 2.1074e-04 - val_loss: 4.3264e-04\n",
      "Epoch 64/100\n",
      "20/20 [==============================] - 6s 319ms/step - loss: 2.2176e-04 - val_loss: 7.6407e-04\n",
      "Epoch 65/100\n",
      "20/20 [==============================] - 6s 318ms/step - loss: 1.9219e-04 - val_loss: 8.9161e-04\n",
      "Epoch 66/100\n",
      "20/20 [==============================] - 6s 323ms/step - loss: 2.0417e-04 - val_loss: 6.6315e-04\n",
      "Epoch 67/100\n",
      "20/20 [==============================] - 6s 317ms/step - loss: 1.7578e-04 - val_loss: 5.0095e-04\n",
      "Epoch 68/100\n",
      "20/20 [==============================] - 6s 319ms/step - loss: 1.9624e-04 - val_loss: 7.1207e-04\n",
      "Epoch 69/100\n",
      "20/20 [==============================] - 6s 308ms/step - loss: 2.0255e-04 - val_loss: 0.0013\n",
      "Epoch 70/100\n",
      "20/20 [==============================] - 6s 316ms/step - loss: 1.7270e-04 - val_loss: 4.7739e-04\n",
      "Epoch 71/100\n",
      "20/20 [==============================] - 6s 323ms/step - loss: 1.8327e-04 - val_loss: 5.7228e-04\n",
      "Epoch 72/100\n",
      "20/20 [==============================] - 6s 318ms/step - loss: 1.7266e-04 - val_loss: 7.9180e-04\n",
      "Epoch 73/100\n",
      "20/20 [==============================] - 6s 315ms/step - loss: 1.7097e-04 - val_loss: 6.6840e-04\n",
      "Epoch 74/100\n",
      "20/20 [==============================] - 6s 318ms/step - loss: 1.7379e-04 - val_loss: 4.3970e-04\n",
      "Epoch 75/100\n",
      "20/20 [==============================] - 6s 316ms/step - loss: 1.6376e-04 - val_loss: 4.3409e-04\n",
      "Epoch 76/100\n",
      "20/20 [==============================] - 6s 316ms/step - loss: 1.7539e-04 - val_loss: 4.0544e-04\n",
      "Epoch 77/100\n"
     ]
    },
    {
     "name": "stdout",
     "output_type": "stream",
     "text": [
      "20/20 [==============================] - 5s 234ms/step - loss: 1.5606e-04 - val_loss: 7.2330e-04\n",
      "Epoch 78/100\n",
      "20/20 [==============================] - 6s 303ms/step - loss: 1.7310e-04 - val_loss: 8.4706e-04\n",
      "Epoch 79/100\n",
      "20/20 [==============================] - 6s 301ms/step - loss: 1.7017e-04 - val_loss: 3.9528e-04\n",
      "Epoch 80/100\n",
      "20/20 [==============================] - 5s 278ms/step - loss: 1.8732e-04 - val_loss: 6.1413e-04\n",
      "Epoch 81/100\n",
      "20/20 [==============================] - 40s 2s/step - loss: 1.6166e-04 - val_loss: 8.3317e-04\n",
      "Epoch 82/100\n",
      "20/20 [==============================] - 6s 307ms/step - loss: 1.6253e-04 - val_loss: 4.8702e-04\n",
      "Epoch 83/100\n",
      "20/20 [==============================] - 6s 319ms/step - loss: 1.5104e-04 - val_loss: 5.3637e-04\n",
      "Epoch 84/100\n",
      "20/20 [==============================] - 6s 325ms/step - loss: 1.6946e-04 - val_loss: 5.9104e-04\n",
      "Epoch 85/100\n",
      "20/20 [==============================] - 6s 288ms/step - loss: 1.5513e-04 - val_loss: 9.2015e-04\n",
      "Epoch 86/100\n",
      "20/20 [==============================] - 5s 260ms/step - loss: 1.5193e-04 - val_loss: 6.4318e-04\n",
      "Epoch 87/100\n",
      "20/20 [==============================] - 5s 270ms/step - loss: 1.6429e-04 - val_loss: 9.8571e-04\n",
      "Epoch 88/100\n",
      "20/20 [==============================] - 5s 246ms/step - loss: 1.4697e-04 - val_loss: 8.0039e-04\n",
      "Epoch 89/100\n",
      "20/20 [==============================] - 5s 279ms/step - loss: 1.4404e-04 - val_loss: 4.4377e-04\n",
      "Epoch 90/100\n",
      "20/20 [==============================] - 6s 323ms/step - loss: 1.6659e-04 - val_loss: 3.0301e-04\n",
      "Epoch 91/100\n",
      "20/20 [==============================] - 6s 320ms/step - loss: 1.4757e-04 - val_loss: 4.6819e-04\n",
      "Epoch 92/100\n",
      "20/20 [==============================] - 7s 332ms/step - loss: 1.6074e-04 - val_loss: 5.3166e-04\n",
      "Epoch 93/100\n",
      "20/20 [==============================] - 6s 283ms/step - loss: 1.3929e-04 - val_loss: 7.5325e-04\n",
      "Epoch 94/100\n",
      "20/20 [==============================] - 5s 259ms/step - loss: 1.4686e-04 - val_loss: 5.6121e-04\n",
      "Epoch 95/100\n",
      "20/20 [==============================] - 5s 239ms/step - loss: 1.4170e-04 - val_loss: 4.7332e-04\n",
      "Epoch 96/100\n",
      "20/20 [==============================] - 6s 295ms/step - loss: 1.5776e-04 - val_loss: 5.5693e-04\n",
      "Epoch 97/100\n",
      "20/20 [==============================] - 6s 313ms/step - loss: 1.4436e-04 - val_loss: 6.4237e-04\n",
      "Epoch 98/100\n",
      "20/20 [==============================] - 7s 333ms/step - loss: 1.3810e-04 - val_loss: 6.2195e-04\n",
      "Epoch 99/100\n",
      "20/20 [==============================] - 6s 290ms/step - loss: 1.5696e-04 - val_loss: 6.1090e-04\n",
      "Epoch 100/100\n",
      "20/20 [==============================] - 5s 262ms/step - loss: 1.4811e-04 - val_loss: 3.6791e-04\n"
     ]
    },
    {
     "data": {
      "text/plain": [
       "<keras.callbacks.History at 0x2641062f3d0>"
      ]
     },
     "execution_count": 33,
     "metadata": {},
     "output_type": "execute_result"
    }
   ],
   "source": [
    "model.fit(x_train,y_train,validation_data=(x_test,y_test),epochs = 100,batch_size=64,verbose=1)"
   ]
  },
  {
   "cell_type": "markdown",
   "id": "652c4ea5",
   "metadata": {},
   "source": [
    "# Predicting the results"
   ]
  },
  {
   "cell_type": "code",
   "execution_count": 34,
   "id": "d51cd0a3",
   "metadata": {},
   "outputs": [
    {
     "name": "stdout",
     "output_type": "stream",
     "text": [
      "40/40 [==============================] - 4s 58ms/step\n",
      "40/40 [==============================] - 2s 55ms/step\n"
     ]
    }
   ],
   "source": [
    "#predict on transform data\n",
    "train_predict  =model.predict(x_train)\n",
    "test_predict = model.predict(x_test)\n"
   ]
  },
  {
   "cell_type": "code",
   "execution_count": 35,
   "id": "43af28ed",
   "metadata": {},
   "outputs": [],
   "source": [
    "# predict on original data\n",
    "train_predict  =sd.inverse_transform(train_predict)\n",
    "test_predict = sd.inverse_transform(test_predict)"
   ]
  },
  {
   "cell_type": "markdown",
   "id": "cf8344a4",
   "metadata": {},
   "source": [
    "# Evaluate the Model"
   ]
  },
  {
   "cell_type": "code",
   "execution_count": 36,
   "id": "1f490bc3",
   "metadata": {},
   "outputs": [
    {
     "data": {
      "text/plain": [
       "136.30008638095413"
      ]
     },
     "execution_count": 36,
     "metadata": {},
     "output_type": "execute_result"
    }
   ],
   "source": [
    "#calculate rmse matrics\n",
    "import math\n",
    "from sklearn.metrics import mean_squared_error\n",
    "math.sqrt(mean_squared_error(y_train,train_predict))"
   ]
  },
  {
   "cell_type": "code",
   "execution_count": 37,
   "id": "66e17819",
   "metadata": {},
   "outputs": [
    {
     "data": {
      "text/plain": [
       "174.2177361695035"
      ]
     },
     "execution_count": 37,
     "metadata": {},
     "output_type": "execute_result"
    }
   ],
   "source": [
    "math.sqrt(mean_squared_error(y_test,test_predict))"
   ]
  },
  {
   "cell_type": "markdown",
   "id": "8af05760",
   "metadata": {},
   "source": [
    "# Thank You"
   ]
  }
 ],
 "metadata": {
  "kernelspec": {
   "display_name": "Python 3 (ipykernel)",
   "language": "python",
   "name": "python3"
  },
  "language_info": {
   "codemirror_mode": {
    "name": "ipython",
    "version": 3
   },
   "file_extension": ".py",
   "mimetype": "text/x-python",
   "name": "python",
   "nbconvert_exporter": "python",
   "pygments_lexer": "ipython3",
   "version": "3.9.7"
  }
 },
 "nbformat": 4,
 "nbformat_minor": 5
}
